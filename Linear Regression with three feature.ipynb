{
 "cells": [
  {
   "cell_type": "code",
   "execution_count": 1,
   "metadata": {},
   "outputs": [],
   "source": [
    "#importing required liberary\n",
    "import numpy as np\n",
    "import pandas as pd"
   ]
  },
  {
   "cell_type": "code",
   "execution_count": 2,
   "metadata": {},
   "outputs": [],
   "source": [
    "#import datasets\n",
    "data=pd.read_csv(\"dataset.csv\");"
   ]
  },
  {
   "cell_type": "code",
   "execution_count": 3,
   "metadata": {},
   "outputs": [
    {
     "data": {
      "text/html": [
       "<div>\n",
       "<style scoped>\n",
       "    .dataframe tbody tr th:only-of-type {\n",
       "        vertical-align: middle;\n",
       "    }\n",
       "\n",
       "    .dataframe tbody tr th {\n",
       "        vertical-align: top;\n",
       "    }\n",
       "\n",
       "    .dataframe thead th {\n",
       "        text-align: right;\n",
       "    }\n",
       "</style>\n",
       "<table border=\"1\" class=\"dataframe\">\n",
       "  <thead>\n",
       "    <tr style=\"text-align: right;\">\n",
       "      <th></th>\n",
       "      <th>x1</th>\n",
       "      <th>x2</th>\n",
       "      <th>x3</th>\n",
       "      <th>y</th>\n",
       "    </tr>\n",
       "  </thead>\n",
       "  <tbody>\n",
       "    <tr>\n",
       "      <th>0</th>\n",
       "      <td>2.173282</td>\n",
       "      <td>2.350076</td>\n",
       "      <td>2.415250</td>\n",
       "      <td>35.708201</td>\n",
       "    </tr>\n",
       "    <tr>\n",
       "      <th>1</th>\n",
       "      <td>5.555118</td>\n",
       "      <td>5.993455</td>\n",
       "      <td>3.045520</td>\n",
       "      <td>60.201730</td>\n",
       "    </tr>\n",
       "    <tr>\n",
       "      <th>2</th>\n",
       "      <td>4.799505</td>\n",
       "      <td>3.901152</td>\n",
       "      <td>4.451028</td>\n",
       "      <td>56.969898</td>\n",
       "    </tr>\n",
       "    <tr>\n",
       "      <th>3</th>\n",
       "      <td>2.581442</td>\n",
       "      <td>5.075955</td>\n",
       "      <td>4.103971</td>\n",
       "      <td>54.576365</td>\n",
       "    </tr>\n",
       "    <tr>\n",
       "      <th>4</th>\n",
       "      <td>1.241630</td>\n",
       "      <td>4.261207</td>\n",
       "      <td>4.567827</td>\n",
       "      <td>50.139696</td>\n",
       "    </tr>\n",
       "  </tbody>\n",
       "</table>\n",
       "</div>"
      ],
      "text/plain": [
       "         x1        x2        x3          y\n",
       "0  2.173282  2.350076  2.415250  35.708201\n",
       "1  5.555118  5.993455  3.045520  60.201730\n",
       "2  4.799505  3.901152  4.451028  56.969898\n",
       "3  2.581442  5.075955  4.103971  54.576365\n",
       "4  1.241630  4.261207  4.567827  50.139696"
      ]
     },
     "execution_count": 3,
     "metadata": {},
     "output_type": "execute_result"
    }
   ],
   "source": [
    "#reading 5 dataset\n",
    "data.head()"
   ]
  },
  {
   "cell_type": "code",
   "execution_count": 4,
   "metadata": {},
   "outputs": [
    {
     "data": {
      "text/plain": [
       "1000"
      ]
     },
     "execution_count": 4,
     "metadata": {},
     "output_type": "execute_result"
    }
   ],
   "source": [
    "#viewing size of dataset\n",
    "data['x1'].size"
   ]
  },
  {
   "cell_type": "code",
   "execution_count": 5,
   "metadata": {},
   "outputs": [],
   "source": [
    "#Taking 70% of data as training set\n",
    "k=(int)(0.7*data['x1'].size)\n",
    "x1=np.array(data.loc[:k-1,'x1'])\n",
    "x2=np.array(data.loc[:k-1,'x2'])\n",
    "x3=np.array(data.loc[:k-1,'x3'])\n",
    "y=np.array(data.loc[:k-1,'y'])"
   ]
  },
  {
   "cell_type": "code",
   "execution_count": 6,
   "metadata": {},
   "outputs": [
    {
     "data": {
      "text/plain": [
       "700"
      ]
     },
     "execution_count": 6,
     "metadata": {},
     "output_type": "execute_result"
    }
   ],
   "source": [
    "#checking Size of training set\n",
    "len(x1)"
   ]
  },
  {
   "cell_type": "code",
   "execution_count": 7,
   "metadata": {},
   "outputs": [],
   "source": [
    "#Taking rest 30% as test data\n",
    "x1_test=np.array(data.loc[k:,'x1'])\n",
    "x2_test=np.array(data.loc[k:,'x2'])\n",
    "x3_test=np.array(data.loc[k:,'x3'])\n",
    "y_test=np.array(data.loc[k:,'y'])"
   ]
  },
  {
   "cell_type": "code",
   "execution_count": 8,
   "metadata": {},
   "outputs": [],
   "source": [
    "#linear regression model\n",
    "x1x1=x1*x1\n",
    "x1x1_mean=x1x1.mean()"
   ]
  },
  {
   "cell_type": "code",
   "execution_count": 9,
   "metadata": {},
   "outputs": [],
   "source": [
    "x1x2=x1*x2\n",
    "x1x2_mean=x1x2.mean()"
   ]
  },
  {
   "cell_type": "code",
   "execution_count": 10,
   "metadata": {},
   "outputs": [],
   "source": [
    "x1x3=x1*x3\n",
    "x1x3_mean=x1x3.mean()"
   ]
  },
  {
   "cell_type": "code",
   "execution_count": 11,
   "metadata": {},
   "outputs": [],
   "source": [
    "x1_mean=x1.mean()"
   ]
  },
  {
   "cell_type": "code",
   "execution_count": 12,
   "metadata": {},
   "outputs": [],
   "source": [
    "x1y=x1*y\n",
    "x1y_mean=x1y.mean()"
   ]
  },
  {
   "cell_type": "code",
   "execution_count": 13,
   "metadata": {},
   "outputs": [],
   "source": [
    "x2x2=x2*x2\n",
    "x2x2_mean=x2x2.mean()"
   ]
  },
  {
   "cell_type": "code",
   "execution_count": 14,
   "metadata": {},
   "outputs": [],
   "source": [
    "x2x3=x2*x3\n",
    "x2x3_mean=x2x3.mean()"
   ]
  },
  {
   "cell_type": "code",
   "execution_count": 15,
   "metadata": {},
   "outputs": [],
   "source": [
    "x2_mean=x2.mean()"
   ]
  },
  {
   "cell_type": "code",
   "execution_count": 16,
   "metadata": {},
   "outputs": [],
   "source": [
    "x2y=x2*y\n",
    "x2y_mean=x2y.mean()"
   ]
  },
  {
   "cell_type": "code",
   "execution_count": 17,
   "metadata": {},
   "outputs": [],
   "source": [
    "x3x3=x3*x3\n",
    "x3x3_mean=x3x3.mean()"
   ]
  },
  {
   "cell_type": "code",
   "execution_count": 18,
   "metadata": {},
   "outputs": [],
   "source": [
    "x3_mean=x3.mean()"
   ]
  },
  {
   "cell_type": "code",
   "execution_count": 19,
   "metadata": {},
   "outputs": [],
   "source": [
    "x3y=x3*y\n",
    "x3y_mean=x3y.mean()"
   ]
  },
  {
   "cell_type": "code",
   "execution_count": 20,
   "metadata": {},
   "outputs": [],
   "source": [
    "y_mean=y.mean()"
   ]
  },
  {
   "cell_type": "code",
   "execution_count": 21,
   "metadata": {},
   "outputs": [
    {
     "name": "stdout",
     "output_type": "stream",
     "text": [
      "[[ 14.38508219  12.42112691  12.16590634   3.4890837  174.3975606 ]\n",
      " [ 12.42112691  14.73470577  12.48005406   3.55463113 180.01908813]\n",
      " [ 12.16590634  12.48005406  14.25996736   3.50256204 179.07818219]\n",
      " [  3.4890837    3.55463113   3.50256204   1.          48.46222841]]\n"
     ]
    }
   ],
   "source": [
    "#creating augmented matrix\n",
    "M=np.array([[x1x1_mean, x1x2_mean, x1x3_mean, x1_mean,  x1y_mean],\n",
    "            [x1x2_mean, x2x2_mean, x2x3_mean, x2_mean,  x2y_mean],\n",
    "            [x1x3_mean, x2x3_mean, x3x3_mean, x3_mean,  x3y_mean],\n",
    "            [x1_mean,   x2_mean,   x3_mean,   1.0,      y_mean]])\n",
    "print(M)"
   ]
  },
  {
   "cell_type": "code",
   "execution_count": 22,
   "metadata": {},
   "outputs": [
    {
     "name": "stdout",
     "output_type": "stream",
     "text": [
      "[[1.43850822e+01 1.24211269e+01 1.21659063e+01 3.48908370e+00\n",
      "  1.74397561e+02]\n",
      " [1.24211269e+01 1.47347058e+01 1.24800541e+01 3.55463113e+00\n",
      "  1.80019088e+02]\n",
      " [1.21659063e+01 1.24800541e+01 1.42599674e+01 3.50256204e+00\n",
      "  1.79078182e+02]\n",
      " [0.00000000e+00 5.41902329e-01 5.51736664e-01 1.53727111e-01\n",
      "  6.16231814e+00]]\n"
     ]
    }
   ],
   "source": [
    "#performing row operation R3->R3-(M30/M00)R0\n",
    "M[3,:]=M[3,:]-(M[3,0]/M[0,0])*M[0,:]\n",
    "print(M)"
   ]
  },
  {
   "cell_type": "code",
   "execution_count": 23,
   "metadata": {},
   "outputs": [
    {
     "name": "stdout",
     "output_type": "stream",
     "text": [
      "[[1.43850822e+01 1.24211269e+01 1.21659063e+01 3.48908370e+00\n",
      "  1.74397561e+02]\n",
      " [1.24211269e+01 1.47347058e+01 1.24800541e+01 3.55463113e+00\n",
      "  1.80019088e+02]\n",
      " [0.00000000e+00 1.97512510e+00 3.97088628e+00 5.51736664e-01\n",
      "  3.15848026e+01]\n",
      " [0.00000000e+00 5.41902329e-01 5.51736664e-01 1.53727111e-01\n",
      "  6.16231814e+00]]\n"
     ]
    }
   ],
   "source": [
    "#performing row operation R2->R2-(M20/M00)R0\n",
    "M[2,:]=M[2,:]-(M[2,0]/M[0,0])*M[0,:]\n",
    "print(M)"
   ]
  },
  {
   "cell_type": "code",
   "execution_count": 24,
   "metadata": {},
   "outputs": [
    {
     "name": "stdout",
     "output_type": "stream",
     "text": [
      "[[1.43850822e+01 1.24211269e+01 1.21659063e+01 3.48908370e+00\n",
      "  1.74397561e+02]\n",
      " [0.00000000e+00 4.00940079e+00 1.97512510e+00 5.41902329e-01\n",
      "  2.94315416e+01]\n",
      " [0.00000000e+00 1.97512510e+00 3.97088628e+00 5.51736664e-01\n",
      "  3.15848026e+01]\n",
      " [0.00000000e+00 5.41902329e-01 5.51736664e-01 1.53727111e-01\n",
      "  6.16231814e+00]]\n"
     ]
    }
   ],
   "source": [
    "#performing row operation R1->R1-(M10/M00)R0\n",
    "M[1,:]=M[1,:]-(M[1,0]/M[0,0])*M[0,:]\n",
    "print(M)"
   ]
  },
  {
   "cell_type": "code",
   "execution_count": 25,
   "metadata": {},
   "outputs": [
    {
     "name": "stdout",
     "output_type": "stream",
     "text": [
      "[[1.43850822e+01 1.24211269e+01 1.21659063e+01 3.48908370e+00\n",
      "  1.74397561e+02]\n",
      " [0.00000000e+00 4.00940079e+00 1.97512510e+00 5.41902329e-01\n",
      "  2.94315416e+01]\n",
      " [0.00000000e+00 1.97512510e+00 3.97088628e+00 5.51736664e-01\n",
      "  3.15848026e+01]\n",
      " [0.00000000e+00 0.00000000e+00 2.84782836e-01 8.04847119e-02\n",
      "  2.18441176e+00]]\n"
     ]
    }
   ],
   "source": [
    "#performing row operation R3->R3-(M31/M11)R1\n",
    "M[3,:]=M[3,:]-(M[3,1]/M[1,1])*M[1,:]\n",
    "print(M)"
   ]
  },
  {
   "cell_type": "code",
   "execution_count": 26,
   "metadata": {},
   "outputs": [
    {
     "name": "stdout",
     "output_type": "stream",
     "text": [
      "[[1.43850822e+01 1.24211269e+01 1.21659063e+01 3.48908370e+00\n",
      "  1.74397561e+02]\n",
      " [0.00000000e+00 4.00940079e+00 1.97512510e+00 5.41902329e-01\n",
      "  2.94315416e+01]\n",
      " [0.00000000e+00 0.00000000e+00 2.99789322e+00 2.84782836e-01\n",
      "  1.70861332e+01]\n",
      " [0.00000000e+00 0.00000000e+00 2.84782836e-01 8.04847119e-02\n",
      "  2.18441176e+00]]\n"
     ]
    }
   ],
   "source": [
    "#performing row operation R2->R2-(M21/M11)*R1\n",
    "M[2,:]=M[2,:]-(M[2,1]/M[1,1])*M[1,:]\n",
    "print(M)"
   ]
  },
  {
   "cell_type": "code",
   "execution_count": 27,
   "metadata": {},
   "outputs": [
    {
     "name": "stdout",
     "output_type": "stream",
     "text": [
      "[[1.43850822e+01 1.24211269e+01 1.21659063e+01 3.48908370e+00\n",
      "  1.74397561e+02]\n",
      " [0.00000000e+00 4.00940079e+00 1.97512510e+00 5.41902329e-01\n",
      "  2.94315416e+01]\n",
      " [0.00000000e+00 0.00000000e+00 2.99789322e+00 2.84782836e-01\n",
      "  1.70861332e+01]\n",
      " [0.00000000e+00 0.00000000e+00 0.00000000e+00 5.34319593e-02\n",
      "  5.61326111e-01]]\n"
     ]
    }
   ],
   "source": [
    "#performing row operation R3->R3-(M32/M22)R2\n",
    "M[3,:]=M[3,:]-(M[3,2]/M[2,2])*M[2,:]\n",
    "print(M)"
   ]
  },
  {
   "cell_type": "code",
   "execution_count": 28,
   "metadata": {},
   "outputs": [
    {
     "name": "stdout",
     "output_type": "stream",
     "text": [
      "10.505437541342411\n"
     ]
    }
   ],
   "source": [
    "#Calculating constant k=M34/M33\n",
    "k=M[3,4]/M[3,3]\n",
    "print(k)"
   ]
  },
  {
   "cell_type": "code",
   "execution_count": 29,
   "metadata": {},
   "outputs": [
    {
     "name": "stdout",
     "output_type": "stream",
     "text": [
      "4.701423248278179\n"
     ]
    }
   ],
   "source": [
    "#calculating cofficient a3=(M24-k*M23)/M22\n",
    "a3=(M[2,4]-k*M[2,3])/M[2,2]\n",
    "print(a3)"
   ]
  },
  {
   "cell_type": "code",
   "execution_count": 30,
   "metadata": {},
   "outputs": [
    {
     "name": "stdout",
     "output_type": "stream",
     "text": [
      "3.604708608107475\n"
     ]
    }
   ],
   "source": [
    "#calculating cofficient a2=(M14-(a3*M12+k*M13))/M11\n",
    "a2=(M[1,4]-(a3*M[1,2]+k*M[1,3]))/M[1,1]\n",
    "print(a2)"
   ]
  },
  {
   "cell_type": "code",
   "execution_count": 31,
   "metadata": {},
   "outputs": [
    {
     "name": "stdout",
     "output_type": "stream",
     "text": [
      "2.4867144508993757\n"
     ]
    }
   ],
   "source": [
    "#calculating cofficient a1=(M04-()\n",
    "a1=(M[0,4]-(a2*M[0,1]+a3*M[0,2]+k*M[0,3]))/M[0,0]\n",
    "print(a1)"
   ]
  },
  {
   "cell_type": "code",
   "execution_count": 32,
   "metadata": {},
   "outputs": [
    {
     "name": "stdout",
     "output_type": "stream",
     "text": [
      "Y=2.49X1+3.6X2+4.7X3+10.51\n"
     ]
    }
   ],
   "source": [
    "#Learned Linear function\n",
    "print(\"Y={}X1+{}X2+{}X3+{}\".format(round(a1,2),round(a2,2),round(a3,2),round(k,2)))"
   ]
  },
  {
   "cell_type": "code",
   "execution_count": 33,
   "metadata": {},
   "outputs": [],
   "source": [
    "#predicting y\n",
    "y_pred=a1*x1_test+a2*x2_test+a3*x3_test+k"
   ]
  },
  {
   "cell_type": "code",
   "execution_count": 34,
   "metadata": {},
   "outputs": [
    {
     "name": "stdout",
     "output_type": "stream",
     "text": [
      "mean square error 0.08354258244611353\n"
     ]
    }
   ],
   "source": [
    "mean_sq_error=((y_pred-y_test)**2).sum()/len(y_test)\n",
    "print(\"mean square error\",mean_sq_error)"
   ]
  },
  {
   "cell_type": "code",
   "execution_count": 35,
   "metadata": {},
   "outputs": [
    {
     "name": "stdout",
     "output_type": "stream",
     "text": [
      "Mean squaed error  0.08354258244611353\n",
      "r2 score  0.9990598531287528\n"
     ]
    }
   ],
   "source": [
    "#importing liberary for accuracy check\n",
    "from sklearn.metrics import mean_squared_error, r2_score\n",
    "print(\"Mean squaed error \",mean_squared_error(y_test,y_pred))\n",
    "print(\"r2 score \",r2_score(y_test,y_pred))"
   ]
  }
 ],
 "metadata": {
  "kernelspec": {
   "display_name": "Python 3",
   "language": "python",
   "name": "python3"
  },
  "language_info": {
   "codemirror_mode": {
    "name": "ipython",
    "version": 3
   },
   "file_extension": ".py",
   "mimetype": "text/x-python",
   "name": "python",
   "nbconvert_exporter": "python",
   "pygments_lexer": "ipython3",
   "version": "3.6.5"
  }
 },
 "nbformat": 4,
 "nbformat_minor": 2
}
