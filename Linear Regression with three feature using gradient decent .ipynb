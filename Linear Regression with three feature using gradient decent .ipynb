{
 "cells": [
  {
   "cell_type": "code",
   "execution_count": 1,
   "metadata": {},
   "outputs": [],
   "source": [
    "#importing required liberary\n",
    "import numpy as np\n",
    "import pandas as pd"
   ]
  },
  {
   "cell_type": "code",
   "execution_count": 2,
   "metadata": {},
   "outputs": [],
   "source": [
    "#import datasets\n",
    "data=pd.read_csv(\"dataset.csv\");"
   ]
  },
  {
   "cell_type": "code",
   "execution_count": 3,
   "metadata": {},
   "outputs": [
    {
     "data": {
      "text/html": [
       "<div>\n",
       "<style scoped>\n",
       "    .dataframe tbody tr th:only-of-type {\n",
       "        vertical-align: middle;\n",
       "    }\n",
       "\n",
       "    .dataframe tbody tr th {\n",
       "        vertical-align: top;\n",
       "    }\n",
       "\n",
       "    .dataframe thead th {\n",
       "        text-align: right;\n",
       "    }\n",
       "</style>\n",
       "<table border=\"1\" class=\"dataframe\">\n",
       "  <thead>\n",
       "    <tr style=\"text-align: right;\">\n",
       "      <th></th>\n",
       "      <th>x1</th>\n",
       "      <th>x2</th>\n",
       "      <th>x3</th>\n",
       "      <th>y</th>\n",
       "    </tr>\n",
       "  </thead>\n",
       "  <tbody>\n",
       "    <tr>\n",
       "      <th>0</th>\n",
       "      <td>2.173282</td>\n",
       "      <td>2.350076</td>\n",
       "      <td>2.415250</td>\n",
       "      <td>35.708201</td>\n",
       "    </tr>\n",
       "    <tr>\n",
       "      <th>1</th>\n",
       "      <td>5.555118</td>\n",
       "      <td>5.993455</td>\n",
       "      <td>3.045520</td>\n",
       "      <td>60.201730</td>\n",
       "    </tr>\n",
       "    <tr>\n",
       "      <th>2</th>\n",
       "      <td>4.799505</td>\n",
       "      <td>3.901152</td>\n",
       "      <td>4.451028</td>\n",
       "      <td>56.969898</td>\n",
       "    </tr>\n",
       "    <tr>\n",
       "      <th>3</th>\n",
       "      <td>2.581442</td>\n",
       "      <td>5.075955</td>\n",
       "      <td>4.103971</td>\n",
       "      <td>54.576365</td>\n",
       "    </tr>\n",
       "    <tr>\n",
       "      <th>4</th>\n",
       "      <td>1.241630</td>\n",
       "      <td>4.261207</td>\n",
       "      <td>4.567827</td>\n",
       "      <td>50.139696</td>\n",
       "    </tr>\n",
       "  </tbody>\n",
       "</table>\n",
       "</div>"
      ],
      "text/plain": [
       "         x1        x2        x3          y\n",
       "0  2.173282  2.350076  2.415250  35.708201\n",
       "1  5.555118  5.993455  3.045520  60.201730\n",
       "2  4.799505  3.901152  4.451028  56.969898\n",
       "3  2.581442  5.075955  4.103971  54.576365\n",
       "4  1.241630  4.261207  4.567827  50.139696"
      ]
     },
     "execution_count": 3,
     "metadata": {},
     "output_type": "execute_result"
    }
   ],
   "source": [
    "#reading 5 dataset\n",
    "data.head()"
   ]
  },
  {
   "cell_type": "code",
   "execution_count": 4,
   "metadata": {},
   "outputs": [
    {
     "data": {
      "text/plain": [
       "1000"
      ]
     },
     "execution_count": 4,
     "metadata": {},
     "output_type": "execute_result"
    }
   ],
   "source": [
    "#viewing size of dataset\n",
    "data['x1'].size"
   ]
  },
  {
   "cell_type": "code",
   "execution_count": 5,
   "metadata": {},
   "outputs": [],
   "source": [
    "#Taking 70% of data as training set\n",
    "k=(int)(0.7*data['x1'].size)\n",
    "x=np.ones((k,4))\n",
    "x[:,1:]=np.array(data.loc[:k-1,['x1','x2','x3']])\n",
    "y=np.array(data.loc[:k-1,'y'])"
   ]
  },
  {
   "cell_type": "code",
   "execution_count": 6,
   "metadata": {},
   "outputs": [
    {
     "data": {
      "text/plain": [
       "700"
      ]
     },
     "execution_count": 6,
     "metadata": {},
     "output_type": "execute_result"
    }
   ],
   "source": [
    "#checking Size of training set\n",
    "len(x[:,0])"
   ]
  },
  {
   "cell_type": "code",
   "execution_count": 7,
   "metadata": {},
   "outputs": [],
   "source": [
    "#Taking rest 30% as test data\n",
    "k1=(int)(0.3*data['x1'].size)\n",
    "x_test=np.ones((k1,4))\n",
    "x_test[:,1:]=np.array(data.loc[k:,['x1','x2','x3']])\n",
    "y_test=np.array(data.loc[k:,'y'])"
   ]
  },
  {
   "cell_type": "code",
   "execution_count": 8,
   "metadata": {},
   "outputs": [],
   "source": [
    "#linear regression model\n",
    "m=0.0\n",
    "m=len(x[:,0])#size of train data\n",
    "#a is our coefficient y=a0+a1x1+a2x2+a3x3\n",
    "a=np.array([0.0,0.0,0.0,0.0])\n",
    "alpha=0.001#learning rate"
   ]
  },
  {
   "cell_type": "code",
   "execution_count": 9,
   "metadata": {},
   "outputs": [],
   "source": [
    "for k in range(100000):\n",
    "    temp=np.zeros(4)\n",
    "    for i in range(m):\n",
    "        y_diff=(a*x[i,:]).sum()-y[i]\n",
    "        for j in range(len(x[0,:])):\n",
    "            temp[j]+=(y_diff*x[i,j])\n",
    "    a=a-((alpha/m)*temp)"
   ]
  },
  {
   "cell_type": "code",
   "execution_count": 10,
   "metadata": {},
   "outputs": [
    {
     "name": "stdout",
     "output_type": "stream",
     "text": [
      "y=10.45499420534502+2.491050035196256x1+3.6091684375299087x2+4.706228755648556x3\n"
     ]
    }
   ],
   "source": [
    "print(\"y={}+{}x1+{}x2+{}x3\".format(a[0],a[1],a[2],a[3]))"
   ]
  },
  {
   "cell_type": "code",
   "execution_count": 11,
   "metadata": {},
   "outputs": [],
   "source": [
    "#predicting y\n",
    "y_pred=np.zeros(len(x_test[:,0]))\n",
    "for i in range(len(x_test[:,0])):\n",
    "    y_pred[i]=(a*x_test[i,:]).sum()"
   ]
  },
  {
   "cell_type": "code",
   "execution_count": 12,
   "metadata": {},
   "outputs": [
    {
     "name": "stdout",
     "output_type": "stream",
     "text": [
      "mean square error 0.08453264138251676\n"
     ]
    }
   ],
   "source": [
    "mean_sq_error=((y_pred-y_test)**2).sum()/len(y_test)\n",
    "print(\"mean square error\",mean_sq_error)"
   ]
  },
  {
   "cell_type": "code",
   "execution_count": 13,
   "metadata": {},
   "outputs": [
    {
     "name": "stdout",
     "output_type": "stream",
     "text": [
      "Mean squaed error  0.08453264138251676\n",
      "r2 score  0.9990487114955383\n"
     ]
    }
   ],
   "source": [
    "#importing liberary for accuracy check\n",
    "from sklearn.metrics import mean_squared_error, r2_score\n",
    "print(\"Mean squaed error \",mean_squared_error(y_test,y_pred))\n",
    "print(\"r2 score \",r2_score(y_test,y_pred))"
   ]
  },
  {
   "cell_type": "code",
   "execution_count": null,
   "metadata": {},
   "outputs": [],
   "source": []
  }
 ],
 "metadata": {
  "kernelspec": {
   "display_name": "Python 3",
   "language": "python",
   "name": "python3"
  },
  "language_info": {
   "codemirror_mode": {
    "name": "ipython",
    "version": 3
   },
   "file_extension": ".py",
   "mimetype": "text/x-python",
   "name": "python",
   "nbconvert_exporter": "python",
   "pygments_lexer": "ipython3",
   "version": "3.6.5"
  }
 },
 "nbformat": 4,
 "nbformat_minor": 2
}
