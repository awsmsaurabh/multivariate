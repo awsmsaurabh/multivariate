{
  "nbformat": 4,
  "nbformat_minor": 0,
  "metadata": {
    "colab": {
      "name": "multivariable_regression.ipynb",
      "version": "0.3.2",
      "provenance": [],
      "collapsed_sections": []
    },
    "kernelspec": {
      "name": "python3",
      "display_name": "Python 3"
    }
  },
  "cells": [
    {
      "metadata": {
        "id": "GFKRBbS0Vop0",
        "colab_type": "code",
        "colab": {}
      },
      "cell_type": "code",
      "source": [
        "import numpy as np\n",
        "import pandas as pd"
      ],
      "execution_count": 0,
      "outputs": []
    },
    {
      "metadata": {
        "id": "l58VCPKJWThf",
        "colab_type": "code",
        "colab": {}
      },
      "cell_type": "code",
      "source": [
        "data = pd.read_csv(\"dataset.csv\")"
      ],
      "execution_count": 0,
      "outputs": []
    },
    {
      "metadata": {
        "id": "Cpc3RmkMWcve",
        "colab_type": "code",
        "outputId": "62e6d260-7c99-47e2-c40a-18e346d12bb3",
        "colab": {
          "base_uri": "https://localhost:8080/",
          "height": 195
        }
      },
      "cell_type": "code",
      "source": [
        "data.head()"
      ],
      "execution_count": 3,
      "outputs": [
        {
          "output_type": "execute_result",
          "data": {
            "text/html": [
              "<div>\n",
              "<style scoped>\n",
              "    .dataframe tbody tr th:only-of-type {\n",
              "        vertical-align: middle;\n",
              "    }\n",
              "\n",
              "    .dataframe tbody tr th {\n",
              "        vertical-align: top;\n",
              "    }\n",
              "\n",
              "    .dataframe thead th {\n",
              "        text-align: right;\n",
              "    }\n",
              "</style>\n",
              "<table border=\"1\" class=\"dataframe\">\n",
              "  <thead>\n",
              "    <tr style=\"text-align: right;\">\n",
              "      <th></th>\n",
              "      <th>x1</th>\n",
              "      <th>x2</th>\n",
              "      <th>x3</th>\n",
              "      <th>y</th>\n",
              "    </tr>\n",
              "  </thead>\n",
              "  <tbody>\n",
              "    <tr>\n",
              "      <th>0</th>\n",
              "      <td>2.173282</td>\n",
              "      <td>2.350076</td>\n",
              "      <td>2.415250</td>\n",
              "      <td>35.708201</td>\n",
              "    </tr>\n",
              "    <tr>\n",
              "      <th>1</th>\n",
              "      <td>5.555118</td>\n",
              "      <td>5.993455</td>\n",
              "      <td>3.045520</td>\n",
              "      <td>60.201730</td>\n",
              "    </tr>\n",
              "    <tr>\n",
              "      <th>2</th>\n",
              "      <td>4.799505</td>\n",
              "      <td>3.901152</td>\n",
              "      <td>4.451028</td>\n",
              "      <td>56.969898</td>\n",
              "    </tr>\n",
              "    <tr>\n",
              "      <th>3</th>\n",
              "      <td>2.581442</td>\n",
              "      <td>5.075955</td>\n",
              "      <td>4.103971</td>\n",
              "      <td>54.576365</td>\n",
              "    </tr>\n",
              "    <tr>\n",
              "      <th>4</th>\n",
              "      <td>1.241630</td>\n",
              "      <td>4.261207</td>\n",
              "      <td>4.567827</td>\n",
              "      <td>50.139696</td>\n",
              "    </tr>\n",
              "  </tbody>\n",
              "</table>\n",
              "</div>"
            ],
            "text/plain": [
              "         x1        x2        x3          y\n",
              "0  2.173282  2.350076  2.415250  35.708201\n",
              "1  5.555118  5.993455  3.045520  60.201730\n",
              "2  4.799505  3.901152  4.451028  56.969898\n",
              "3  2.581442  5.075955  4.103971  54.576365\n",
              "4  1.241630  4.261207  4.567827  50.139696"
            ]
          },
          "metadata": {
            "tags": []
          },
          "execution_count": 3
        }
      ]
    },
    {
      "metadata": {
        "id": "XN0AsPq4WhL3",
        "colab_type": "code",
        "colab": {}
      },
      "cell_type": "code",
      "source": [
        "X = data.values"
      ],
      "execution_count": 0,
      "outputs": []
    },
    {
      "metadata": {
        "id": "_B4eMfjyWmHI",
        "colab_type": "code",
        "outputId": "ee7a25ba-fb97-4380-f73b-3877b6eeacab",
        "colab": {
          "base_uri": "https://localhost:8080/",
          "height": 134
        }
      },
      "cell_type": "code",
      "source": [
        "X"
      ],
      "execution_count": 5,
      "outputs": [
        {
          "output_type": "execute_result",
          "data": {
            "text/plain": [
              "array([[ 2.17328187,  2.35007567,  2.41524966, 35.70820074],\n",
              "       [ 5.55511808,  5.99345518,  3.04552049, 60.20172986],\n",
              "       [ 4.79950491,  3.90115183,  4.45102767, 56.96989775],\n",
              "       ...,\n",
              "       [ 1.64510427,  4.50235896,  5.92562784, 58.20880789],\n",
              "       [ 1.27479419,  3.86316655,  1.28767294, 33.4567469 ],\n",
              "       [ 1.55295957,  2.34954563,  5.61161171, 49.0644137 ]])"
            ]
          },
          "metadata": {
            "tags": []
          },
          "execution_count": 5
        }
      ]
    },
    {
      "metadata": {
        "id": "8wdsyDDpWmyT",
        "colab_type": "code",
        "colab": {}
      },
      "cell_type": "code",
      "source": [
        "X = X[:,:-1]"
      ],
      "execution_count": 0,
      "outputs": []
    },
    {
      "metadata": {
        "id": "k95Lpox7WpW8",
        "colab_type": "code",
        "colab": {
          "base_uri": "https://localhost:8080/",
          "height": 134
        },
        "outputId": "08e7e471-4aeb-4e2f-a652-3a2bf3342fe9"
      },
      "cell_type": "code",
      "source": [
        "X"
      ],
      "execution_count": 7,
      "outputs": [
        {
          "output_type": "execute_result",
          "data": {
            "text/plain": [
              "array([[2.17328187, 2.35007567, 2.41524966],\n",
              "       [5.55511808, 5.99345518, 3.04552049],\n",
              "       [4.79950491, 3.90115183, 4.45102767],\n",
              "       ...,\n",
              "       [1.64510427, 4.50235896, 5.92562784],\n",
              "       [1.27479419, 3.86316655, 1.28767294],\n",
              "       [1.55295957, 2.34954563, 5.61161171]])"
            ]
          },
          "metadata": {
            "tags": []
          },
          "execution_count": 7
        }
      ]
    },
    {
      "metadata": {
        "id": "aJtM59kNWqOo",
        "colab_type": "code",
        "outputId": "da96dc08-86f5-46d6-d6ed-9aafcccd2755",
        "colab": {
          "base_uri": "https://localhost:8080/",
          "height": 101
        }
      },
      "cell_type": "code",
      "source": [
        "X[:5]"
      ],
      "execution_count": 8,
      "outputs": [
        {
          "output_type": "execute_result",
          "data": {
            "text/plain": [
              "array([[2.17328187, 2.35007567, 2.41524966],\n",
              "       [5.55511808, 5.99345518, 3.04552049],\n",
              "       [4.79950491, 3.90115183, 4.45102767],\n",
              "       [2.58144234, 5.07595546, 4.10397118],\n",
              "       [1.24162955, 4.26120663, 4.56782675]])"
            ]
          },
          "metadata": {
            "tags": []
          },
          "execution_count": 8
        }
      ]
    },
    {
      "metadata": {
        "id": "_eoJ0JHvW7eV",
        "colab_type": "code",
        "colab": {}
      },
      "cell_type": "code",
      "source": [
        "Y = data.values[:,-1]"
      ],
      "execution_count": 0,
      "outputs": []
    },
    {
      "metadata": {
        "id": "cx-eSBhlXGW4",
        "colab_type": "code",
        "outputId": "1a019dfa-6ee9-4d9e-b6bc-f57ff27f59bb",
        "colab": {
          "base_uri": "https://localhost:8080/",
          "height": 34
        }
      },
      "cell_type": "code",
      "source": [
        "Y[:5]"
      ],
      "execution_count": 10,
      "outputs": [
        {
          "output_type": "execute_result",
          "data": {
            "text/plain": [
              "array([35.70820074, 60.20172986, 56.96989775, 54.5763646 , 50.13969565])"
            ]
          },
          "metadata": {
            "tags": []
          },
          "execution_count": 10
        }
      ]
    },
    {
      "metadata": {
        "id": "wN7FILI3XH2l",
        "colab_type": "code",
        "colab": {}
      },
      "cell_type": "code",
      "source": [
        "ones = np.array([1]*X.shape[0]).reshape((X.shape[0],1))"
      ],
      "execution_count": 0,
      "outputs": []
    },
    {
      "metadata": {
        "id": "SMWyyyjqXbb6",
        "colab_type": "code",
        "outputId": "439b491d-59df-41ae-c938-76178f30cb23",
        "colab": {
          "base_uri": "https://localhost:8080/",
          "height": 101
        }
      },
      "cell_type": "code",
      "source": [
        "ones[:5]"
      ],
      "execution_count": 12,
      "outputs": [
        {
          "output_type": "execute_result",
          "data": {
            "text/plain": [
              "array([[1],\n",
              "       [1],\n",
              "       [1],\n",
              "       [1],\n",
              "       [1]])"
            ]
          },
          "metadata": {
            "tags": []
          },
          "execution_count": 12
        }
      ]
    },
    {
      "metadata": {
        "id": "aYLHsr_0Xh_P",
        "colab_type": "code",
        "colab": {}
      },
      "cell_type": "code",
      "source": [
        "X = np.concatenate((ones,X),axis=1)"
      ],
      "execution_count": 0,
      "outputs": []
    },
    {
      "metadata": {
        "id": "bSASYdnWXwSg",
        "colab_type": "code",
        "outputId": "4f93ab98-600e-4c4e-dbff-5c2fc75f5cb9",
        "colab": {
          "base_uri": "https://localhost:8080/",
          "height": 101
        }
      },
      "cell_type": "code",
      "source": [
        "X[:5]"
      ],
      "execution_count": 14,
      "outputs": [
        {
          "output_type": "execute_result",
          "data": {
            "text/plain": [
              "array([[1.        , 2.17328187, 2.35007567, 2.41524966],\n",
              "       [1.        , 5.55511808, 5.99345518, 3.04552049],\n",
              "       [1.        , 4.79950491, 3.90115183, 4.45102767],\n",
              "       [1.        , 2.58144234, 5.07595546, 4.10397118],\n",
              "       [1.        , 1.24162955, 4.26120663, 4.56782675]])"
            ]
          },
          "metadata": {
            "tags": []
          },
          "execution_count": 14
        }
      ]
    },
    {
      "metadata": {
        "id": "wJbvUFhJYd9Q",
        "colab_type": "code",
        "colab": {}
      },
      "cell_type": "code",
      "source": [
        "from sklearn.model_selection import train_test_split\n",
        "X_train,X_test,y_train,y_test = train_test_split(X,Y,random_state=42)"
      ],
      "execution_count": 0,
      "outputs": []
    },
    {
      "metadata": {
        "id": "XI_O3ukQY3MD",
        "colab_type": "code",
        "colab": {}
      },
      "cell_type": "code",
      "source": [
        "p_inv = np.linalg.inv(np.dot(X_train.T,X_train))"
      ],
      "execution_count": 0,
      "outputs": []
    },
    {
      "metadata": {
        "id": "ZtMWXEEJZN0O",
        "colab_type": "code",
        "colab": {}
      },
      "cell_type": "code",
      "source": [
        "p_inv = np.dot(p_inv,X_train.T)"
      ],
      "execution_count": 0,
      "outputs": []
    },
    {
      "metadata": {
        "id": "4TqqBsbUZv7t",
        "colab_type": "code",
        "colab": {}
      },
      "cell_type": "code",
      "source": [
        "theta = np.dot(p_inv,y_train)"
      ],
      "execution_count": 0,
      "outputs": []
    },
    {
      "metadata": {
        "id": "CSPyKe16Z8qu",
        "colab_type": "code",
        "outputId": "48dd31a8-8669-4cfc-805d-6b54a71cfbfe",
        "colab": {
          "base_uri": "https://localhost:8080/",
          "height": 34
        }
      },
      "cell_type": "code",
      "source": [
        "theta"
      ],
      "execution_count": 19,
      "outputs": [
        {
          "output_type": "execute_result",
          "data": {
            "text/plain": [
              "array([10.53514277,  2.4878038 ,  3.59803286,  4.69658085])"
            ]
          },
          "metadata": {
            "tags": []
          },
          "execution_count": 19
        }
      ]
    },
    {
      "metadata": {
        "id": "J4Myu7A8afBb",
        "colab_type": "code",
        "colab": {}
      },
      "cell_type": "code",
      "source": [
        "y_pred = np.dot(theta,X_test.T)"
      ],
      "execution_count": 0,
      "outputs": []
    },
    {
      "metadata": {
        "id": "ijS5siITbM2u",
        "colab_type": "code",
        "outputId": "8419783e-82ad-467f-9ffc-342ff5a807a2",
        "colab": {
          "base_uri": "https://localhost:8080/",
          "height": 34
        }
      },
      "cell_type": "code",
      "source": [
        "y_pred[:5]"
      ],
      "execution_count": 21,
      "outputs": [
        {
          "output_type": "execute_result",
          "data": {
            "text/plain": [
              "array([37.78536846, 56.54835523, 62.74306459, 39.36121846, 43.40236314])"
            ]
          },
          "metadata": {
            "tags": []
          },
          "execution_count": 21
        }
      ]
    },
    {
      "metadata": {
        "id": "QWNRRqO-bOhx",
        "colab_type": "code",
        "outputId": "40e0fca6-085d-4226-c71d-60e2e8b02fd0",
        "colab": {
          "base_uri": "https://localhost:8080/",
          "height": 34
        }
      },
      "cell_type": "code",
      "source": [
        "y_test[:5]"
      ],
      "execution_count": 22,
      "outputs": [
        {
          "output_type": "execute_result",
          "data": {
            "text/plain": [
              "array([37.65496625, 56.98158042, 62.8569962 , 38.94856476, 43.19129718])"
            ]
          },
          "metadata": {
            "tags": []
          },
          "execution_count": 22
        }
      ]
    },
    {
      "metadata": {
        "id": "0ubySFMtZ91A",
        "colab_type": "code",
        "colab": {}
      },
      "cell_type": "code",
      "source": [
        "from sklearn.metrics import mean_squared_error,r2_score"
      ],
      "execution_count": 0,
      "outputs": []
    },
    {
      "metadata": {
        "id": "Hyic33cEbb6I",
        "colab_type": "code",
        "outputId": "cbd52a52-f63d-42fb-f596-232f2e102725",
        "colab": {
          "base_uri": "https://localhost:8080/",
          "height": 34
        }
      },
      "cell_type": "code",
      "source": [
        "print(\"Mean squared error\",mean_squared_error(y_test,y_pred))"
      ],
      "execution_count": 24,
      "outputs": [
        {
          "output_type": "stream",
          "text": [
            "Mean squared error 0.0904870332846944\n"
          ],
          "name": "stdout"
        }
      ]
    },
    {
      "metadata": {
        "id": "CF0nKPy5brqh",
        "colab_type": "code",
        "outputId": "b9aa756b-b0b8-4fa4-fc5a-78f83731a332",
        "colab": {
          "base_uri": "https://localhost:8080/",
          "height": 34
        }
      },
      "cell_type": "code",
      "source": [
        "print(\"r2 score \",r2_score(y_test,y_pred))"
      ],
      "execution_count": 25,
      "outputs": [
        {
          "output_type": "stream",
          "text": [
            "r2 score  0.9989336348393452\n"
          ],
          "name": "stdout"
        }
      ]
    },
    {
      "metadata": {
        "id": "ia8ixFepcCLd",
        "colab_type": "code",
        "colab": {}
      },
      "cell_type": "code",
      "source": [
        ""
      ],
      "execution_count": 0,
      "outputs": []
    }
  ]
}